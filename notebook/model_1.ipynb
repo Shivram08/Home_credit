{
 "cells": [
  {
   "cell_type": "code",
   "execution_count": 1,
   "id": "d1008384",
   "metadata": {},
   "outputs": [
    {
     "name": "stdout",
     "output_type": "stream",
     "text": [
      "Requirement already satisfied: xgboost in d:\\anaconda_app\\envs\\anacondavscode\\lib\\site-packages (3.0.2)\n",
      "Requirement already satisfied: numpy in d:\\anaconda_app\\envs\\anacondavscode\\lib\\site-packages (from xgboost) (1.26.4)\n",
      "Requirement already satisfied: scipy in d:\\anaconda_app\\envs\\anacondavscode\\lib\\site-packages (from xgboost) (1.13.1)\n",
      "Note: you may need to restart the kernel to use updated packages.\n",
      "Requirement already satisfied: seaborn in d:\\anaconda_app\\envs\\anacondavscode\\lib\\site-packages (0.13.2)\n",
      "Requirement already satisfied: numpy!=1.24.0,>=1.20 in d:\\anaconda_app\\envs\\anacondavscode\\lib\\site-packages (from seaborn) (1.26.4)\n",
      "Requirement already satisfied: pandas>=1.2 in d:\\anaconda_app\\envs\\anacondavscode\\lib\\site-packages (from seaborn) (2.2.3)\n",
      "Requirement already satisfied: matplotlib!=3.6.1,>=3.4 in d:\\anaconda_app\\envs\\anacondavscode\\lib\\site-packages (from seaborn) (3.10.0)\n",
      "Requirement already satisfied: contourpy>=1.0.1 in d:\\anaconda_app\\envs\\anacondavscode\\lib\\site-packages (from matplotlib!=3.6.1,>=3.4->seaborn) (1.3.1)\n",
      "Requirement already satisfied: cycler>=0.10 in d:\\anaconda_app\\envs\\anacondavscode\\lib\\site-packages (from matplotlib!=3.6.1,>=3.4->seaborn) (0.12.1)\n",
      "Requirement already satisfied: fonttools>=4.22.0 in d:\\anaconda_app\\envs\\anacondavscode\\lib\\site-packages (from matplotlib!=3.6.1,>=3.4->seaborn) (4.55.3)\n",
      "Requirement already satisfied: kiwisolver>=1.3.1 in d:\\anaconda_app\\envs\\anacondavscode\\lib\\site-packages (from matplotlib!=3.6.1,>=3.4->seaborn) (1.4.8)\n",
      "Requirement already satisfied: packaging>=20.0 in d:\\anaconda_app\\envs\\anacondavscode\\lib\\site-packages (from matplotlib!=3.6.1,>=3.4->seaborn) (24.1)\n",
      "Requirement already satisfied: pillow>=8 in d:\\anaconda_app\\envs\\anacondavscode\\lib\\site-packages (from matplotlib!=3.6.1,>=3.4->seaborn) (9.5.0)\n",
      "Requirement already satisfied: pyparsing>=2.3.1 in d:\\anaconda_app\\envs\\anacondavscode\\lib\\site-packages (from matplotlib!=3.6.1,>=3.4->seaborn) (3.2.1)\n",
      "Requirement already satisfied: python-dateutil>=2.7 in d:\\anaconda_app\\envs\\anacondavscode\\lib\\site-packages (from matplotlib!=3.6.1,>=3.4->seaborn) (2.9.0)\n",
      "Requirement already satisfied: pytz>=2020.1 in d:\\anaconda_app\\envs\\anacondavscode\\lib\\site-packages (from pandas>=1.2->seaborn) (2024.2)\n",
      "Requirement already satisfied: tzdata>=2022.7 in d:\\anaconda_app\\envs\\anacondavscode\\lib\\site-packages (from pandas>=1.2->seaborn) (2024.2)\n",
      "Requirement already satisfied: six>=1.5 in d:\\anaconda_app\\envs\\anacondavscode\\lib\\site-packages (from python-dateutil>=2.7->matplotlib!=3.6.1,>=3.4->seaborn) (1.16.0)\n",
      "Note: you may need to restart the kernel to use updated packages.\n",
      "Requirement already satisfied: lightgbm in d:\\anaconda_app\\envs\\anacondavscode\\lib\\site-packages (4.6.0)\n",
      "Requirement already satisfied: numpy>=1.17.0 in d:\\anaconda_app\\envs\\anacondavscode\\lib\\site-packages (from lightgbm) (1.26.4)\n",
      "Requirement already satisfied: scipy in d:\\anaconda_app\\envs\\anacondavscode\\lib\\site-packages (from lightgbm) (1.13.1)\n",
      "Note: you may need to restart the kernel to use updated packages.\n"
     ]
    }
   ],
   "source": [
    "%pip install xgboost\n",
    "%pip install seaborn\n",
    "%pip install lightgbm"
   ]
  },
  {
   "cell_type": "code",
   "execution_count": null,
   "id": "3ddcf7f3",
   "metadata": {},
   "outputs": [],
   "source": [
    "# Import libraries\n",
    "\n",
    "import pandas as pd\n",
    "import numpy as np\n",
    "import matplotlib.pyplot as plt\n",
    "import seaborn as sns\n",
    "\n",
    "# For display settings\n",
    "pd.set_option('display.max_columns', 100)\n",
    "pd.set_option('display.max_rows', 100)\n"
   ]
  },
  {
   "cell_type": "code",
   "execution_count": 3,
   "id": "2f46e7dd",
   "metadata": {},
   "outputs": [],
   "source": [
    "import xgboost as xgb\n",
    "from sklearn.metrics import roc_auc_score, roc_curve\n",
    "import matplotlib.pyplot as plt\n"
   ]
  },
  {
   "cell_type": "code",
   "execution_count": 4,
   "id": "9e86d274",
   "metadata": {},
   "outputs": [],
   "source": [
    "from sklearn.model_selection import train_test_split\n",
    "from sklearn.preprocessing import LabelEncoder"
   ]
  },
  {
   "cell_type": "code",
   "execution_count": 17,
   "id": "25f6820e",
   "metadata": {},
   "outputs": [],
   "source": [
    "import lightgbm as lgb"
   ]
  },
  {
   "cell_type": "code",
   "execution_count": 5,
   "id": "b36a13a7",
   "metadata": {},
   "outputs": [],
   "source": [
    "train_df = pd.read_csv(r'E:\\home_credit_assignment\\data\\processed\\train_aggregated.csv')\n",
    "test_df = pd.read_csv(r'E:\\home_credit_assignment\\data\\processed\\test_aggregated.csv') "
   ]
  },
  {
   "cell_type": "code",
   "execution_count": null,
   "id": "fcf087ee",
   "metadata": {},
   "outputs": [],
   "source": [
    "# Train test Split\n",
    "X = train_df.drop(columns=['TARGET'])\n",
    "y = train_df['TARGET']\n",
    "\n",
    "from sklearn.model_selection import train_test_split\n",
    "\n",
    "X_train, X_val, y_train, y_val = train_test_split(\n",
    "    X, y, test_size=0.2, stratify=y, random_state=42\n",
    ")\n"
   ]
  },
  {
   "cell_type": "code",
   "execution_count": null,
   "id": "5385d239",
   "metadata": {},
   "outputs": [
    {
     "name": "stdout",
     "output_type": "stream",
     "text": [
      "Removing 89 non-important features.\n"
     ]
    }
   ],
   "source": [
    "# Identify low imp;ortance features\n",
    "importance_df = pd.read_csv('../data/processed/feature_importance.csv')\n",
    "low_importance_features = importance_df[importance_df['importance'] == 0]['feature'].tolist()\n",
    "print(f\"Removing {len(low_importance_features)} non-important features.\")\n"
   ]
  },
  {
   "cell_type": "code",
   "execution_count": 8,
   "id": "6409ea79",
   "metadata": {},
   "outputs": [],
   "source": [
    "# Removing Low Importance Features\n",
    "\n",
    "X_train = X_train.drop(columns=[col for col in low_importance_features if col in X_train.columns])\n",
    "X_val = X_val.drop(columns=[col for col in low_importance_features if col in X_val.columns])\n",
    "test_df = test_df.drop(columns=[col for col in low_importance_features if col in test_df.columns])\n"
   ]
  },
  {
   "cell_type": "code",
   "execution_count": null,
   "id": "31f4d066",
   "metadata": {},
   "outputs": [],
   "source": [
    "# Removing High colinearity Columns\n",
    "\n",
    "corr_matrix = X_train.corr().abs()\n",
    "upper = corr_matrix.where(np.triu(np.ones(corr_matrix.shape), k=1).astype(bool))\n",
    "high_corr_features = [column for column in upper.columns if any(upper[column] > 0.98)]\n",
    "print(f\"Removing {len(high_corr_features)} highly collinear features.\")\n"
   ]
  },
  {
   "cell_type": "code",
   "execution_count": null,
   "id": "2698fd16",
   "metadata": {},
   "outputs": [],
   "source": [
    "X_train = X_train.drop(columns=high_corr_features)\n",
    "X_val = X_val.drop(columns=high_corr_features)\n",
    "test_df = test_df.drop(columns=high_corr_features)\n"
   ]
  },
  {
   "cell_type": "code",
   "execution_count": 9,
   "id": "3b4b6970",
   "metadata": {},
   "outputs": [
    {
     "name": "stdout",
     "output_type": "stream",
     "text": [
      "X_train shape: (246008, 513)\n",
      "X_val shape: (61503, 513)\n",
      "test_df shape: (48744, 513)\n"
     ]
    }
   ],
   "source": [
    "print(f\"X_train shape: {X_train.shape}\")\n",
    "print(f\"X_val shape: {X_val.shape}\")\n",
    "print(f\"test_df shape: {test_df.shape}\")\n"
   ]
  },
  {
   "cell_type": "code",
   "execution_count": null,
   "id": "00e129f2",
   "metadata": {},
   "outputs": [],
   "source": [
    "# Remove Inf Values\n",
    "X_train = X_train.replace([np.inf, -np.inf], 0)\n",
    "X_val = X_val.replace([np.inf, -np.inf], 0)\n",
    "test_df = test_df.replace([np.inf, -np.inf], 0)\n"
   ]
  },
  {
   "cell_type": "code",
   "execution_count": null,
   "id": "f3bfc264",
   "metadata": {},
   "outputs": [],
   "source": [
    "X_train.to_csv('../data/processed/X_train_pruned.csv', index=False)\n",
    "X_val.to_csv('../data/processed/X_val_pruned.csv', index=False)\n",
    "test_df.to_csv('../data/processed/test_df_pruned.csv', index=False)\n"
   ]
  },
  {
   "cell_type": "markdown",
   "id": "37337833",
   "metadata": {},
   "source": [
    "XGBoost Training"
   ]
  },
  {
   "cell_type": "code",
   "execution_count": 21,
   "id": "d896a6ac",
   "metadata": {},
   "outputs": [
    {
     "name": "stdout",
     "output_type": "stream",
     "text": [
      "[0]\ttrain-auc:0.70081\tvalidation-auc:0.69056\n",
      "[100]\ttrain-auc:0.81623\tvalidation-auc:0.77511\n",
      "[200]\ttrain-auc:0.84515\tvalidation-auc:0.78109\n",
      "[300]\ttrain-auc:0.86590\tvalidation-auc:0.78314\n",
      "[400]\ttrain-auc:0.88270\tvalidation-auc:0.78358\n",
      "[467]\ttrain-auc:0.89228\tvalidation-auc:0.78324\n"
     ]
    }
   ],
   "source": [
    "import xgboost as xgb\n",
    "\n",
    "dtrain = xgb.DMatrix(X_train, label=y_train)\n",
    "dval = xgb.DMatrix(X_val, label=y_val)\n",
    "dtest = xgb.DMatrix(test_df)\n",
    "\n",
    "params = {\n",
    "    'objective': 'binary:logistic',\n",
    "    'eval_metric': 'auc',\n",
    "    'learning_rate': 0.05,\n",
    "    'max_depth': 6,\n",
    "    'subsample': 0.8,\n",
    "    'colsample_bytree': 0.8,\n",
    "    'scale_pos_weight': (y_train == 0).sum() / (y_train == 1).sum(),\n",
    "    'seed': 42\n",
    "}\n",
    "\n",
    "evals = [(dtrain, 'train'), (dval, 'validation')]\n",
    "xgb_model = xgb.train(\n",
    "    params,\n",
    "    dtrain,\n",
    "    num_boost_round=1000,\n",
    "    evals=evals,\n",
    "    early_stopping_rounds=50,\n",
    "    verbose_eval=100\n",
    ")\n"
   ]
  },
  {
   "cell_type": "markdown",
   "id": "a26f8cb1",
   "metadata": {},
   "source": [
    "LGBoost Training"
   ]
  },
  {
   "cell_type": "code",
   "execution_count": 22,
   "id": "5b5a29b4",
   "metadata": {},
   "outputs": [
    {
     "name": "stdout",
     "output_type": "stream",
     "text": [
      "Training until validation scores don't improve for 50 rounds\n",
      "[100]\ttraining's auc: 0.800571\tvalid_1's auc: 0.77649\n",
      "[200]\ttraining's auc: 0.828445\tvalid_1's auc: 0.782279\n",
      "[300]\ttraining's auc: 0.85028\tvalid_1's auc: 0.783583\n",
      "Early stopping, best iteration is:\n",
      "[343]\ttraining's auc: 0.858684\tvalid_1's auc: 0.783967\n"
     ]
    }
   ],
   "source": [
    "import lightgbm as lgb\n",
    "\n",
    "lgb_train = lgb.Dataset(X_train, y_train)\n",
    "lgb_val = lgb.Dataset(X_val, y_val, reference=lgb_train)\n",
    "\n",
    "lgb_params = {\n",
    "    'objective': 'binary',\n",
    "    'metric': 'auc',\n",
    "    'learning_rate': 0.05,\n",
    "    'num_leaves': 31,\n",
    "    'feature_fraction': 0.8,\n",
    "    'bagging_fraction': 0.8,\n",
    "    'bagging_freq': 5,\n",
    "    'verbosity': -1,\n",
    "    'seed': 42\n",
    "}\n",
    "\n",
    "lgb_model = lgb.train(\n",
    "    lgb_params,\n",
    "    lgb_train,\n",
    "    valid_sets=[lgb_train, lgb_val],\n",
    "    num_boost_round=1000,\n",
    "    callbacks=[\n",
    "        lgb.early_stopping(stopping_rounds=50),lgb.log_evaluation(period=100)\n",
    "    ]\n",
    ")\n",
    "\n",
    "lgb_preds = lgb_model.predict(test_df, num_iteration=lgb_model.best_iteration)\n"
   ]
  },
  {
   "cell_type": "markdown",
   "id": "d4492770",
   "metadata": {},
   "source": [
    "Ensembleling LGB and XGB"
   ]
  },
  {
   "cell_type": "code",
   "execution_count": 23,
   "id": "75ea1b28",
   "metadata": {},
   "outputs": [
    {
     "name": "stdout",
     "output_type": "stream",
     "text": [
      "Ensemble Validation AUC: 0.7865\n"
     ]
    }
   ],
   "source": [
    "dval = xgb.DMatrix(X_val)\n",
    "xgb_val_preds = xgb_model.predict(dval)\n",
    "\n",
    "# LightGBM predictions\n",
    "lgb_val_preds = lgb_model.predict(X_val, num_iteration=lgb_model.best_iteration)\n",
    "# Ensemble\n",
    "#ensemble_val_preds = (xgb_val_preds + lgb_val_preds) / 2\n",
    "ensemble_val_preds = (0.2 * xgb_val_preds) + (0.8 * lgb_val_preds)\n",
    "# Evaluate AUC\n",
    "from sklearn.metrics import roc_auc_score\n",
    "auc_score = roc_auc_score(y_val, ensemble_val_preds)\n",
    "print(f\"Ensemble Validation AUC: {auc_score:.4f}\")\n"
   ]
  },
  {
   "cell_type": "code",
   "execution_count": 12,
   "id": "acdf886c",
   "metadata": {},
   "outputs": [
    {
     "name": "stdout",
     "output_type": "stream",
     "text": [
      "Requirement already satisfied: catboost in d:\\anaconda_app\\envs\\anacondavscode\\lib\\site-packages (1.2.8)\n",
      "Requirement already satisfied: graphviz in d:\\anaconda_app\\envs\\anacondavscode\\lib\\site-packages (from catboost) (0.21)\n",
      "Requirement already satisfied: matplotlib in d:\\anaconda_app\\envs\\anacondavscode\\lib\\site-packages (from catboost) (3.10.0)\n",
      "Requirement already satisfied: numpy<3.0,>=1.16.0 in d:\\anaconda_app\\envs\\anacondavscode\\lib\\site-packages (from catboost) (1.26.4)\n",
      "Requirement already satisfied: pandas>=0.24 in d:\\anaconda_app\\envs\\anacondavscode\\lib\\site-packages (from catboost) (2.2.3)\n",
      "Requirement already satisfied: scipy in d:\\anaconda_app\\envs\\anacondavscode\\lib\\site-packages (from catboost) (1.13.1)\n",
      "Requirement already satisfied: plotly in d:\\anaconda_app\\envs\\anacondavscode\\lib\\site-packages (from catboost) (6.2.0)\n",
      "Requirement already satisfied: six in d:\\anaconda_app\\envs\\anacondavscode\\lib\\site-packages (from catboost) (1.16.0)\n",
      "Requirement already satisfied: python-dateutil>=2.8.2 in d:\\anaconda_app\\envs\\anacondavscode\\lib\\site-packages (from pandas>=0.24->catboost) (2.9.0)\n",
      "Requirement already satisfied: pytz>=2020.1 in d:\\anaconda_app\\envs\\anacondavscode\\lib\\site-packages (from pandas>=0.24->catboost) (2024.2)\n",
      "Requirement already satisfied: tzdata>=2022.7 in d:\\anaconda_app\\envs\\anacondavscode\\lib\\site-packages (from pandas>=0.24->catboost) (2024.2)\n",
      "Requirement already satisfied: contourpy>=1.0.1 in d:\\anaconda_app\\envs\\anacondavscode\\lib\\site-packages (from matplotlib->catboost) (1.3.1)\n",
      "Requirement already satisfied: cycler>=0.10 in d:\\anaconda_app\\envs\\anacondavscode\\lib\\site-packages (from matplotlib->catboost) (0.12.1)\n",
      "Requirement already satisfied: fonttools>=4.22.0 in d:\\anaconda_app\\envs\\anacondavscode\\lib\\site-packages (from matplotlib->catboost) (4.55.3)\n",
      "Requirement already satisfied: kiwisolver>=1.3.1 in d:\\anaconda_app\\envs\\anacondavscode\\lib\\site-packages (from matplotlib->catboost) (1.4.8)\n",
      "Requirement already satisfied: packaging>=20.0 in d:\\anaconda_app\\envs\\anacondavscode\\lib\\site-packages (from matplotlib->catboost) (24.1)\n",
      "Requirement already satisfied: pillow>=8 in d:\\anaconda_app\\envs\\anacondavscode\\lib\\site-packages (from matplotlib->catboost) (9.5.0)\n",
      "Requirement already satisfied: pyparsing>=2.3.1 in d:\\anaconda_app\\envs\\anacondavscode\\lib\\site-packages (from matplotlib->catboost) (3.2.1)\n",
      "Requirement already satisfied: narwhals>=1.15.1 in d:\\anaconda_app\\envs\\anacondavscode\\lib\\site-packages (from plotly->catboost) (1.46.0)\n",
      "Note: you may need to restart the kernel to use updated packages.\n"
     ]
    }
   ],
   "source": [
    "%pip install catboost "
   ]
  },
  {
   "cell_type": "markdown",
   "id": "0fc8766e",
   "metadata": {},
   "source": [
    "CATBoost Training"
   ]
  },
  {
   "cell_type": "code",
   "execution_count": 24,
   "id": "e622df82",
   "metadata": {},
   "outputs": [
    {
     "name": "stdout",
     "output_type": "stream",
     "text": [
      "0:\ttest: 0.6305987\tbest: 0.6305987 (0)\ttotal: 97.6ms\tremaining: 1m 37s\n",
      "100:\ttest: 0.7703775\tbest: 0.7703775 (100)\ttotal: 9.92s\tremaining: 1m 28s\n",
      "200:\ttest: 0.7781843\tbest: 0.7781843 (200)\ttotal: 24.7s\tremaining: 1m 38s\n",
      "300:\ttest: 0.7819735\tbest: 0.7819735 (300)\ttotal: 39.1s\tremaining: 1m 30s\n",
      "400:\ttest: 0.7835297\tbest: 0.7835311 (398)\ttotal: 53.2s\tremaining: 1m 19s\n",
      "500:\ttest: 0.7844103\tbest: 0.7844119 (499)\ttotal: 1m 7s\tremaining: 1m 6s\n",
      "600:\ttest: 0.7852751\tbest: 0.7852820 (598)\ttotal: 1m 21s\tremaining: 53.8s\n",
      "700:\ttest: 0.7860169\tbest: 0.7860169 (700)\ttotal: 1m 35s\tremaining: 40.6s\n",
      "800:\ttest: 0.7864774\tbest: 0.7864774 (800)\ttotal: 1m 49s\tremaining: 27.1s\n",
      "900:\ttest: 0.7870507\tbest: 0.7870507 (900)\ttotal: 2m 3s\tremaining: 13.5s\n",
      "999:\ttest: 0.7872595\tbest: 0.7872836 (996)\ttotal: 2m 17s\tremaining: 0us\n",
      "\n",
      "bestTest = 0.7872835769\n",
      "bestIteration = 996\n",
      "\n",
      "Shrink model to first 997 iterations.\n"
     ]
    },
    {
     "data": {
      "text/plain": [
       "<catboost.core.CatBoostClassifier at 0x19ed5b23c80>"
      ]
     },
     "execution_count": 24,
     "metadata": {},
     "output_type": "execute_result"
    }
   ],
   "source": [
    "from catboost import CatBoostClassifier\n",
    "\n",
    "model_cb = CatBoostClassifier(\n",
    "    iterations=1000,\n",
    "    learning_rate=0.05,\n",
    "    depth=6,\n",
    "    eval_metric='AUC',\n",
    "    random_seed=42,\n",
    "    verbose=100,\n",
    "    early_stopping_rounds=50\n",
    ")\n",
    "\n",
    "model_cb.fit(X_train, y_train, eval_set=(X_val, y_val), use_best_model=True)\n"
   ]
  },
  {
   "cell_type": "markdown",
   "id": "77984366",
   "metadata": {},
   "source": [
    "Stratified K-Fold Training"
   ]
  },
  {
   "cell_type": "code",
   "execution_count": 13,
   "id": "c84ee045",
   "metadata": {},
   "outputs": [],
   "source": [
    "from sklearn.model_selection import StratifiedKFold\n",
    "n_splits = 5\n",
    "kf = StratifiedKFold(n_splits=n_splits, shuffle=True, random_state=42)\n",
    "\n",
    "auc_scores_xgb = []\n",
    "auc_scores_lgb = []\n",
    "auc_scores_cb = []\n"
   ]
  },
  {
   "cell_type": "code",
   "execution_count": 14,
   "id": "a0a89fc2",
   "metadata": {},
   "outputs": [],
   "source": [
    "n_splits = 5\n",
    "kf = StratifiedKFold(n_splits=n_splits, shuffle=True, random_state=42)\n",
    "\n",
    "auc_scores_xgb = []\n",
    "auc_scores_lgb = []\n",
    "auc_scores_cb = []\n"
   ]
  },
  {
   "cell_type": "code",
   "execution_count": 15,
   "id": "d679caf8",
   "metadata": {},
   "outputs": [],
   "source": [
    "oof_preds_xgb = np.zeros(X.shape[0])\n",
    "oof_preds_lgb = np.zeros(X.shape[0])\n",
    "oof_preds_cb = np.zeros(X.shape[0])\n"
   ]
  },
  {
   "cell_type": "code",
   "execution_count": 18,
   "id": "334b5d87",
   "metadata": {},
   "outputs": [
    {
     "name": "stdout",
     "output_type": "stream",
     "text": [
      "\n",
      "--- Fold 1 ---\n",
      "[0]\tvalidation-auc:0.68041\n",
      "[100]\tvalidation-auc:0.76907\n",
      "[200]\tvalidation-auc:0.77505\n",
      "[300]\tvalidation-auc:0.77674\n",
      "[400]\tvalidation-auc:0.77661\n",
      "[500]\tvalidation-auc:0.77705\n",
      "[546]\tvalidation-auc:0.77667\n",
      "XGBoost Fold AUC: 0.7767\n",
      "Training until validation scores don't improve for 50 rounds\n",
      "[100]\tvalid_0's auc: 0.769143\n",
      "[200]\tvalid_0's auc: 0.774634\n",
      "[300]\tvalid_0's auc: 0.775919\n",
      "Early stopping, best iteration is:\n",
      "[283]\tvalid_0's auc: 0.776189\n",
      "LightGBM Fold AUC: 0.7762\n",
      "0:\ttest: 0.6060345\tbest: 0.6060345 (0)\ttotal: 309ms\tremaining: 5m 8s\n",
      "100:\ttest: 0.7608528\tbest: 0.7608528 (100)\ttotal: 13.5s\tremaining: 2m\n",
      "200:\ttest: 0.7694129\tbest: 0.7694129 (200)\ttotal: 35.2s\tremaining: 2m 19s\n",
      "300:\ttest: 0.7733826\tbest: 0.7733837 (299)\ttotal: 56.6s\tremaining: 2m 11s\n",
      "400:\ttest: 0.7755066\tbest: 0.7755333 (397)\ttotal: 1m 11s\tremaining: 1m 46s\n",
      "500:\ttest: 0.7768035\tbest: 0.7768035 (500)\ttotal: 1m 21s\tremaining: 1m 21s\n",
      "600:\ttest: 0.7775926\tbest: 0.7775926 (600)\ttotal: 1m 32s\tremaining: 1m 1s\n",
      "700:\ttest: 0.7783422\tbest: 0.7783675 (699)\ttotal: 1m 44s\tremaining: 44.7s\n",
      "800:\ttest: 0.7789212\tbest: 0.7789212 (800)\ttotal: 1m 57s\tremaining: 29.1s\n",
      "900:\ttest: 0.7792730\tbest: 0.7792730 (900)\ttotal: 2m 9s\tremaining: 14.2s\n",
      "999:\ttest: 0.7795692\tbest: 0.7795692 (999)\ttotal: 2m 21s\tremaining: 0us\n",
      "\n",
      "bestTest = 0.7795691663\n",
      "bestIteration = 999\n",
      "\n",
      "CatBoost Fold AUC: 0.7796\n",
      "\n",
      "--- Fold 2 ---\n",
      "[0]\tvalidation-auc:0.68102\n",
      "[100]\tvalidation-auc:0.77386\n",
      "[200]\tvalidation-auc:0.77991\n",
      "[300]\tvalidation-auc:0.78108\n",
      "[400]\tvalidation-auc:0.78202\n",
      "[466]\tvalidation-auc:0.78202\n",
      "XGBoost Fold AUC: 0.7820\n",
      "Training until validation scores don't improve for 50 rounds\n",
      "[100]\tvalid_0's auc: 0.773152\n",
      "[200]\tvalid_0's auc: 0.779177\n",
      "[300]\tvalid_0's auc: 0.780978\n",
      "Early stopping, best iteration is:\n",
      "[287]\tvalid_0's auc: 0.781095\n",
      "LightGBM Fold AUC: 0.7811\n",
      "0:\ttest: 0.6169316\tbest: 0.6169316 (0)\ttotal: 122ms\tremaining: 2m 1s\n",
      "100:\ttest: 0.7635727\tbest: 0.7635727 (100)\ttotal: 13.6s\tremaining: 2m\n",
      "200:\ttest: 0.7724913\tbest: 0.7724913 (200)\ttotal: 26.5s\tremaining: 1m 45s\n",
      "300:\ttest: 0.7765496\tbest: 0.7765496 (300)\ttotal: 39.2s\tremaining: 1m 31s\n",
      "400:\ttest: 0.7792063\tbest: 0.7792218 (399)\ttotal: 52s\tremaining: 1m 17s\n",
      "500:\ttest: 0.7803225\tbest: 0.7803225 (500)\ttotal: 1m 4s\tremaining: 1m 4s\n",
      "600:\ttest: 0.7815493\tbest: 0.7815628 (599)\ttotal: 1m 17s\tremaining: 51.4s\n",
      "700:\ttest: 0.7823275\tbest: 0.7823275 (700)\ttotal: 1m 29s\tremaining: 38.2s\n",
      "800:\ttest: 0.7830051\tbest: 0.7830056 (799)\ttotal: 1m 41s\tremaining: 25.3s\n",
      "900:\ttest: 0.7834907\tbest: 0.7835088 (898)\ttotal: 1m 53s\tremaining: 12.5s\n",
      "999:\ttest: 0.7839635\tbest: 0.7840091 (985)\ttotal: 2m 5s\tremaining: 0us\n",
      "\n",
      "bestTest = 0.7840090895\n",
      "bestIteration = 985\n",
      "\n",
      "Shrink model to first 986 iterations.\n",
      "CatBoost Fold AUC: 0.7840\n",
      "\n",
      "--- Fold 3 ---\n",
      "[0]\tvalidation-auc:0.68724\n",
      "[100]\tvalidation-auc:0.77586\n",
      "[200]\tvalidation-auc:0.78148\n",
      "[300]\tvalidation-auc:0.78316\n",
      "[400]\tvalidation-auc:0.78372\n",
      "[470]\tvalidation-auc:0.78390\n",
      "XGBoost Fold AUC: 0.7839\n",
      "Training until validation scores don't improve for 50 rounds\n",
      "[100]\tvalid_0's auc: 0.774567\n",
      "[200]\tvalid_0's auc: 0.780686\n",
      "[300]\tvalid_0's auc: 0.781936\n",
      "Early stopping, best iteration is:\n",
      "[330]\tvalid_0's auc: 0.782109\n",
      "LightGBM Fold AUC: 0.7821\n",
      "0:\ttest: 0.6262046\tbest: 0.6262046 (0)\ttotal: 244ms\tremaining: 4m 4s\n",
      "100:\ttest: 0.7691069\tbest: 0.7691069 (100)\ttotal: 23.8s\tremaining: 3m 32s\n",
      "200:\ttest: 0.7756940\tbest: 0.7756940 (200)\ttotal: 47.2s\tremaining: 3m 7s\n",
      "300:\ttest: 0.7793764\tbest: 0.7793764 (300)\ttotal: 1m 9s\tremaining: 2m 42s\n",
      "400:\ttest: 0.7812451\tbest: 0.7812457 (399)\ttotal: 1m 27s\tremaining: 2m 10s\n",
      "500:\ttest: 0.7824666\tbest: 0.7824666 (500)\ttotal: 1m 38s\tremaining: 1m 38s\n",
      "600:\ttest: 0.7832565\tbest: 0.7832597 (593)\ttotal: 1m 50s\tremaining: 1m 13s\n",
      "700:\ttest: 0.7839122\tbest: 0.7839340 (699)\ttotal: 2m 5s\tremaining: 53.5s\n",
      "800:\ttest: 0.7844386\tbest: 0.7844617 (798)\ttotal: 2m 27s\tremaining: 36.6s\n",
      "900:\ttest: 0.7846126\tbest: 0.7846128 (899)\ttotal: 2m 49s\tremaining: 18.6s\n",
      "Stopped by overfitting detector  (50 iterations wait)\n",
      "\n",
      "bestTest = 0.7847151039\n",
      "bestIteration = 925\n",
      "\n",
      "Shrink model to first 926 iterations.\n",
      "CatBoost Fold AUC: 0.7847\n",
      "\n",
      "--- Fold 4 ---\n",
      "[0]\tvalidation-auc:0.68612\n",
      "[100]\tvalidation-auc:0.77630\n",
      "[200]\tvalidation-auc:0.78357\n",
      "[300]\tvalidation-auc:0.78560\n",
      "[375]\tvalidation-auc:0.78569\n",
      "XGBoost Fold AUC: 0.7857\n",
      "Training until validation scores don't improve for 50 rounds\n",
      "[100]\tvalid_0's auc: 0.774503\n",
      "[200]\tvalid_0's auc: 0.780424\n",
      "[300]\tvalid_0's auc: 0.781564\n",
      "Early stopping, best iteration is:\n",
      "[286]\tvalid_0's auc: 0.781706\n",
      "LightGBM Fold AUC: 0.7817\n",
      "0:\ttest: 0.6185113\tbest: 0.6185113 (0)\ttotal: 134ms\tremaining: 2m 13s\n",
      "100:\ttest: 0.7663914\tbest: 0.7663914 (100)\ttotal: 14.3s\tremaining: 2m 7s\n",
      "200:\ttest: 0.7746527\tbest: 0.7746527 (200)\ttotal: 29.3s\tremaining: 1m 56s\n",
      "300:\ttest: 0.7784915\tbest: 0.7784915 (300)\ttotal: 52.1s\tremaining: 2m\n",
      "400:\ttest: 0.7808285\tbest: 0.7808285 (400)\ttotal: 1m 14s\tremaining: 1m 51s\n",
      "500:\ttest: 0.7821980\tbest: 0.7821980 (500)\ttotal: 1m 37s\tremaining: 1m 37s\n",
      "600:\ttest: 0.7833956\tbest: 0.7834149 (598)\ttotal: 2m\tremaining: 1m 20s\n",
      "700:\ttest: 0.7840021\tbest: 0.7840021 (700)\ttotal: 2m 23s\tremaining: 1m 1s\n",
      "800:\ttest: 0.7844838\tbest: 0.7844906 (798)\ttotal: 2m 45s\tremaining: 41.2s\n",
      "900:\ttest: 0.7851224\tbest: 0.7851224 (900)\ttotal: 3m 8s\tremaining: 20.7s\n",
      "999:\ttest: 0.7857091\tbest: 0.7857240 (997)\ttotal: 3m 30s\tremaining: 0us\n",
      "\n",
      "bestTest = 0.7857240285\n",
      "bestIteration = 997\n",
      "\n",
      "Shrink model to first 998 iterations.\n",
      "CatBoost Fold AUC: 0.7857\n",
      "\n",
      "--- Fold 5 ---\n",
      "[0]\tvalidation-auc:0.68304\n",
      "[100]\tvalidation-auc:0.77157\n",
      "[200]\tvalidation-auc:0.77825\n",
      "[300]\tvalidation-auc:0.78120\n",
      "[394]\tvalidation-auc:0.78118\n",
      "XGBoost Fold AUC: 0.7812\n",
      "Training until validation scores don't improve for 50 rounds\n",
      "[100]\tvalid_0's auc: 0.77068\n",
      "[200]\tvalid_0's auc: 0.777215\n",
      "[300]\tvalid_0's auc: 0.778583\n",
      "[400]\tvalid_0's auc: 0.779058\n",
      "Early stopping, best iteration is:\n",
      "[374]\tvalid_0's auc: 0.779254\n",
      "LightGBM Fold AUC: 0.7793\n",
      "0:\ttest: 0.6180112\tbest: 0.6180112 (0)\ttotal: 147ms\tremaining: 2m 27s\n",
      "100:\ttest: 0.7643238\tbest: 0.7643238 (100)\ttotal: 14.1s\tremaining: 2m 5s\n",
      "200:\ttest: 0.7722631\tbest: 0.7722631 (200)\ttotal: 26.9s\tremaining: 1m 46s\n",
      "300:\ttest: 0.7762245\tbest: 0.7762245 (300)\ttotal: 39.2s\tremaining: 1m 31s\n",
      "400:\ttest: 0.7786029\tbest: 0.7786029 (400)\ttotal: 51.3s\tremaining: 1m 16s\n",
      "500:\ttest: 0.7800919\tbest: 0.7800978 (499)\ttotal: 1m 3s\tremaining: 1m 3s\n",
      "600:\ttest: 0.7815256\tbest: 0.7815256 (600)\ttotal: 1m 15s\tremaining: 50.4s\n",
      "700:\ttest: 0.7823328\tbest: 0.7823328 (700)\ttotal: 1m 27s\tremaining: 37.5s\n",
      "800:\ttest: 0.7828990\tbest: 0.7828990 (800)\ttotal: 1m 39s\tremaining: 24.8s\n",
      "900:\ttest: 0.7835475\tbest: 0.7835475 (900)\ttotal: 1m 51s\tremaining: 12.3s\n",
      "999:\ttest: 0.7840468\tbest: 0.7840537 (998)\ttotal: 2m 3s\tremaining: 0us\n",
      "\n",
      "bestTest = 0.7840536712\n",
      "bestIteration = 998\n",
      "\n",
      "Shrink model to first 999 iterations.\n",
      "CatBoost Fold AUC: 0.7841\n"
     ]
    }
   ],
   "source": [
    "from catboost import CatBoostClassifier\n",
    "for fold,(train_idx, val_idx) in enumerate(kf.split(X_train, y_train)):\n",
    "    print(f\"\\n--- Fold {fold + 1} ---\")\n",
    "    X_tr, X_val_fold = X_train.iloc[train_idx], X_train.iloc[val_idx]\n",
    "    y_tr, y_val_fold = y_train.iloc[train_idx], y_train.iloc[val_idx]\n",
    "\n",
    "    # XGBoost\n",
    "    dtrain = xgb.DMatrix(X_tr, label=y_tr)\n",
    "    dval = xgb.DMatrix(X_val_fold, label=y_val_fold)\n",
    "\n",
    "    xgb_params = {\n",
    "        'objective': 'binary:logistic',\n",
    "        'eval_metric': 'auc',\n",
    "        'learning_rate': 0.05,\n",
    "        'max_depth': 6,\n",
    "        'subsample': 0.8,\n",
    "        'colsample_bytree': 0.8,\n",
    "        'seed': 42\n",
    "    }\n",
    "\n",
    "    model_xgb = xgb.train(\n",
    "        xgb_params,\n",
    "        dtrain,\n",
    "        num_boost_round=1000,\n",
    "        evals=[(dval, 'validation')],\n",
    "        early_stopping_rounds=50,\n",
    "        verbose_eval=100\n",
    "    )\n",
    "\n",
    "    preds_xgb = model_xgb.predict(dval)\n",
    "    auc_xgb = roc_auc_score(y_val_fold, preds_xgb)\n",
    "    auc_scores_xgb.append(auc_xgb)\n",
    "    oof_preds_xgb[val_idx] = preds_xgb\n",
    "\n",
    "    print(f\"XGBoost Fold AUC: {auc_xgb:.4f}\")\n",
    "\n",
    "    # LightGBM\n",
    "    lgb_train = lgb.Dataset(X_tr, y_tr)\n",
    "    lgb_val = lgb.Dataset(X_val_fold, y_val_fold, reference=lgb_train)\n",
    "\n",
    "    lgb_params = {\n",
    "        'objective': 'binary',\n",
    "        'metric': 'auc',\n",
    "        'learning_rate': 0.05,\n",
    "        'num_leaves': 31,\n",
    "        'feature_fraction': 0.8,\n",
    "        'bagging_fraction': 0.8,\n",
    "        'bagging_freq': 5,\n",
    "        'verbosity': -1,\n",
    "        'seed': 42\n",
    "    }\n",
    "\n",
    "    model_lgb = lgb.train(\n",
    "        lgb_params,\n",
    "        lgb_train,\n",
    "        num_boost_round=1000,\n",
    "        valid_sets=[lgb_val],\n",
    "        callbacks=[\n",
    "        lgb.early_stopping(stopping_rounds=50),lgb.log_evaluation(period=100)\n",
    "    ]\n",
    "    )\n",
    "\n",
    "    preds_lgb = model_lgb.predict(X_val_fold, num_iteration=model_lgb.best_iteration)\n",
    "    auc_lgb = roc_auc_score(y_val_fold, preds_lgb)\n",
    "    auc_scores_lgb.append(auc_lgb)\n",
    "    oof_preds_lgb[val_idx] = preds_lgb\n",
    "\n",
    "    print(f\"LightGBM Fold AUC: {auc_lgb:.4f}\")\n",
    "\n",
    "    # CatBoost\n",
    "    model_cb = CatBoostClassifier(\n",
    "        iterations=1000,\n",
    "        learning_rate=0.05,\n",
    "        depth=6,\n",
    "        eval_metric='AUC',\n",
    "        random_seed=42,\n",
    "        verbose=100,\n",
    "        early_stopping_rounds=50\n",
    "    )\n",
    "\n",
    "    model_cb.fit(X_tr, y_tr, eval_set=(X_val_fold, y_val_fold), use_best_model=True)\n",
    "    preds_cb = model_cb.predict_proba(X_val_fold)[:, 1]\n",
    "    auc_cb = roc_auc_score(y_val_fold, preds_cb)\n",
    "    auc_scores_cb.append(auc_cb)\n",
    "    oof_preds_cb[val_idx] = preds_cb\n",
    "\n",
    "    print(f\"CatBoost Fold AUC: {auc_cb:.4f}\")\n"
   ]
  },
  {
   "cell_type": "markdown",
   "id": "887f5e95",
   "metadata": {},
   "source": [
    "EVALUATION"
   ]
  },
  {
   "cell_type": "code",
   "execution_count": 19,
   "id": "c35dccdb",
   "metadata": {},
   "outputs": [
    {
     "name": "stdout",
     "output_type": "stream",
     "text": [
      "Cross-Validation Results:\n",
      "XGBoost CV AUC: 0.7810 ± 0.0034\n",
      "LightGBM CV AUC: 0.7801 ± 0.0022\n",
      "CatBoost CV AUC: 0.7836 ± 0.0021\n"
     ]
    }
   ],
   "source": [
    "print(\"Cross-Validation Results:\")\n",
    "print(f\"XGBoost CV AUC: {np.mean(auc_scores_xgb):.4f} ± {np.std(auc_scores_xgb):.4f}\")\n",
    "print(f\"LightGBM CV AUC: {np.mean(auc_scores_lgb):.4f} ± {np.std(auc_scores_lgb):.4f}\")\n",
    "print(f\"CatBoost CV AUC: {np.mean(auc_scores_cb):.4f} ± {np.std(auc_scores_cb):.4f}\")\n"
   ]
  },
  {
   "cell_type": "code",
   "execution_count": 25,
   "id": "6a0a0384",
   "metadata": {},
   "outputs": [],
   "source": [
    "dval = xgb.DMatrix(X_val, label=y_val)\n",
    "xgb_pred_val = xgb_model.predict(dval)\n",
    "\n",
    "lgb_val = lgb.Dataset(X_val, y_val, reference=lgb_train)\n",
    "lgb_val_preds = lgb_model.predict(X_val, num_iteration=lgb_model.best_iteration)\n",
    "\n",
    "cb_val_pred = model_cb.predict_proba(X_val)[:, 1]"
   ]
  },
  {
   "cell_type": "code",
   "execution_count": 26,
   "id": "139fcab5",
   "metadata": {},
   "outputs": [
    {
     "name": "stdout",
     "output_type": "stream",
     "text": [
      " Simple Ensemble Validation AUC: 0.7873\n"
     ]
    }
   ],
   "source": [
    "ensemble_preds_val = (xgb_pred_val + lgb_val_preds + cb_val_pred) / 3\n",
    "\n",
    "from sklearn.metrics import roc_auc_score\n",
    "\n",
    "ensemble_auc = roc_auc_score(y_val, ensemble_preds_val)\n",
    "print(f\" Simple Ensemble Validation AUC: {ensemble_auc:.4f}\")\n"
   ]
  },
  {
   "cell_type": "code",
   "execution_count": 27,
   "id": "96c7b819",
   "metadata": {},
   "outputs": [],
   "source": [
    "dtest = xgb.DMatrix(test_df)\n",
    "xgb_test = xgb_model.predict(dtest)\n",
    "\n",
    "lgb_test = lgb_model.predict(test_df, num_iteration=lgb_model.best_iteration)\n",
    "\n",
    "cb_test = model_cb.predict_proba(test_df)[:, 1]"
   ]
  },
  {
   "cell_type": "code",
   "execution_count": 28,
   "id": "19cfe3ae",
   "metadata": {},
   "outputs": [],
   "source": [
    "ensemble_preds_test = (xgb_test + lgb_test + cb_test) / 3"
   ]
  },
  {
   "cell_type": "code",
   "execution_count": 29,
   "id": "a7cad26c",
   "metadata": {},
   "outputs": [],
   "source": [
    "raw_test = pd.read_csv('../data/raw/application_test.csv')\n",
    "test_ids = raw_test['SK_ID_CURR']"
   ]
  },
  {
   "cell_type": "code",
   "execution_count": 30,
   "id": "5415a7d0",
   "metadata": {},
   "outputs": [],
   "source": [
    "submission = pd.DataFrame({\n",
    "    'SK_ID_CURR': test_ids,\n",
    "    'TARGET': ensemble_preds_test\n",
    "})\n",
    "\n",
    "submission.to_csv('../outputs/submission_simple_ensemble.csv', index=False)\n"
   ]
  },
  {
   "cell_type": "code",
   "execution_count": null,
   "id": "2eafa5fb",
   "metadata": {},
   "outputs": [],
   "source": []
  }
 ],
 "metadata": {
  "kernelspec": {
   "display_name": "anacondavscode",
   "language": "python",
   "name": "python3"
  },
  "language_info": {
   "codemirror_mode": {
    "name": "ipython",
    "version": 3
   },
   "file_extension": ".py",
   "mimetype": "text/x-python",
   "name": "python",
   "nbconvert_exporter": "python",
   "pygments_lexer": "ipython3",
   "version": "3.12.5"
  }
 },
 "nbformat": 4,
 "nbformat_minor": 5
}
